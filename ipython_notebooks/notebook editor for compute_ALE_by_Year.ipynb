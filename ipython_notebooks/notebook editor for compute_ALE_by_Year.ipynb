{
  "nbformat": 4,
  "nbformat_minor": 0,
  "metadata": {
    "kernelspec": {
      "display_name": "Python (env 38)",
      "language": "python",
      "name": "py-dku-venv-38"
    },
    "associatedRecipe": "compute_ALE_by_Year",
    "dkuGit": {
      "lastInteraction": 0
    },
    "creationTag": {
      "versionNumber": 0,
      "lastModifiedBy": {
        "login": "admin"
      },
      "lastModifiedOn": 1716822487506,
      "extendedProperties": {}
    },
    "creator": "admin",
    "createdOn": 1716822487506,
    "tags": [
      "recipe-editor"
    ],
    "customFields": {}
  },
  "cells": [
    {
      "cell_type": "code",
      "metadata": {},
      "outputs": [],
      "execution_count": 0,
      "source": [
        "# -*- coding: utf-8 -*-\n",
        "import dataiku\n",
        "import pandas as pd, numpy as np\n",
        "from dataiku import pandasutils as pdu"
      ]
    },
    {
      "cell_type": "code",
      "metadata": {},
      "outputs": [],
      "execution_count": 0,
      "source": [
        "# Read recipe inputs\n",
        "Assets_Liabilities_Equity_prep \u003d dataiku.Dataset(\"Assets_Liabilities_Equity_prep\")\n",
        "df \u003d Assets_Liabilities_Equity_prep.get_dataframe()"
      ]
    },
    {
      "cell_type": "code",
      "metadata": {},
      "outputs": [],
      "execution_count": 0,
      "source": [
        "# Perform the grouping and aggregation\n",
        "aggregated_df \u003d df.groupby(\"Year\").agg({\n",
        "    \"Total Assets\": \"sum\",\n",
        "    \"Cash\": \"sum\",\n",
        "    \"Accounts Receivable\": \"sum\",\n",
        "    \"Inventories\": \"sum\",\n",
        "    \"Fixed Assets\": \"sum\",\n",
        "    \"Goodwill\": \"sum\",\n",
        "    \"BU ID\": \"count\"  # Using \u0027BU ID\u0027 to count rows\n",
        "}).reset_index()"
      ]
    },
    {
      "cell_type": "code",
      "metadata": {},
      "outputs": [],
      "execution_count": 0,
      "source": [
        "# Rename the columns to match the SQL output\n",
        "aggregated_df \u003d aggregated_df.rename(columns\u003d{\n",
        "    \"Total Assets\": \"Total Assets_sum\",\n",
        "    \"Cash\": \"Cash_sum\",\n",
        "    \"Accounts Receivable\": \"Accounts Receivable_sum\",\n",
        "    \"Inventories\": \"Inventories_sum\",\n",
        "    \"Fixed Assets\": \"Fixed Assets_sum\",\n",
        "    \"Goodwill\": \"Goodwill_sum\",\n",
        "    \"BU ID\": \"count\"\n",
        "})\n",
        "\n",
        "aggreated_df.head()"
      ]
    },
    {
      "cell_type": "code",
      "metadata": {},
      "outputs": [],
      "execution_count": 0,
      "source": [
        "# Write recipe outputs\n",
        "ALE_by_Year \u003d dataiku.Dataset(\"ALE_by_Year\")\n",
        "ALE_by_Year.write_with_schema(aggregated_df)"
      ]
    }
  ]
}