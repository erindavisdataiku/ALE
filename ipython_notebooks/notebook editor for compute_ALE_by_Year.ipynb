{
  "metadata": {
    "kernelspec": {
      "name": "py-dku-venv-38",
      "display_name": "Python (env 38)",
      "language": "python"
    },
    "hide_input": false,
    "dkuGit": {
      "lastInteraction": 0
    },
    "creator": "admin",
    "customFields": {},
    "associatedRecipe": "compute_ALE_by_Year",
    "createdOn": 1716822487506,
    "tags": [
      "recipe-editor"
    ],
    "creationTag": {
      "versionNumber": 0,
      "lastModifiedBy": {
        "login": "admin"
      },
      "lastModifiedOn": 1716822487506,
      "extendedProperties": {}
    },
    "modifiedBy": "admin"
  },
  "nbformat": 4,
  "nbformat_minor": 1,
  "cells": [
    {
      "execution_count": 0,
      "cell_type": "code",
      "metadata": {},
      "source": [
        "# -*- coding: utf-8 -*-\nimport dataiku\nimport pandas as pd, numpy as np\nfrom dataiku import pandasutils as pdu\n\n# Read recipe inputs\nAssets_Liabilities_Equity_prep \u003d dataiku.Dataset(\"Assets_Liabilities_Equity_prep\")\ndf \u003d Assets_Liabilities_Equity_prep.get_dataframe()\n\n\n# Perform the grouping and aggregation\naggregated_df \u003d df.groupby(\"Year\").agg({\n    \"Total Assets\": \"sum\",\n    \"Cash\": \"sum\",\n    \"Accounts Receivable\": \"sum\",\n    \"Inventories\": \"sum\",\n    \"Fixed Assets\": \"sum\",\n    \"Goodwill\": \"sum\",\n    \"BU ID\": \"count\"  # Using \u0027BU ID\u0027 to count rows\n}).reset_index()\n\n# Rename the columns to match the SQL output\naggregated_df \u003d aggregated_df.rename(columns\u003d{\n    \"Total Assets\": \"Total Assets_sum\",\n    \"Cash\": \"Cash_sum\",\n    \"Accounts Receivable\": \"Accounts Receivable_sum\",\n    \"Inventories\": \"Inventories_sum\",\n    \"Fixed Assets\": \"Fixed Assets_sum\",\n    \"Goodwill\": \"Goodwill_sum\",\n    \"BU ID\": \"count\"\n})\n\naggreated_df.head()\n\n\n# Write recipe outputs\nALE_by_Year \u003d dataiku.Dataset(\"ALE_by_Year\")\nALE_by_Year.write_with_schema(aggregated_df)"
      ],
      "outputs": []
    }
  ]
}